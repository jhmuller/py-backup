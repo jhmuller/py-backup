{
 "cells": [
  {
   "cell_type": "code",
   "execution_count": null,
   "metadata": {},
   "outputs": [],
   "source": [
    "import os\n",
    "import sys\n"
   ]
  },
  {
   "cell_type": "code",
   "execution_count": null,
   "metadata": {},
   "outputs": [],
   "source": [
    "import subprocess\n",
    "from subprocess import Popen, PIPE"
   ]
  },
  {
   "cell_type": "code",
   "execution_count": null,
   "metadata": {},
   "outputs": [],
   "source": [
    "print ('\\nread:')\n",
    "proc = subprocess.Popen(['whoami'], \n",
    "                        stdout=subprocess.PIPE,\n",
    "                        )\n",
    "stdout_value = repr(proc.communicate()[0])\n",
    "print(type(stdout_value))\n",
    "print(stdout_value[:3])\n",
    "print (stdout_value.strip())\n",
    "eval(stdout_value)"
   ]
  },
  {
   "cell_type": "code",
   "execution_count": null,
   "metadata": {},
   "outputs": [],
   "source": [
    "print(os.getenv(\"USERNAME\"))"
   ]
  },
  {
   "cell_type": "code",
   "execution_count": null,
   "metadata": {},
   "outputs": [],
   "source": [
    "bfolders = [os.path.join(\"C:\\\\\", \"Users\", os.getenv(\"USERNAME\"), \"Documents\"),\n",
    "           os.path.join(\"C:\\\\\", \"Users\", os.getenv(\"USERNAME\"), \"Downloads\"),\n",
    "           os.path.join(\"C:\\\\\", \"Users\", os.getenv(\"USERNAME\"), \"Videos\"),\n",
    "           os.path.join(\"C:\\\\\", \"Users\", os.getenv(\"USERNAME\"), \"Music\"),\n",
    "           ]\n",
    "path = bfolders[1]\n",
    "items = os.listdir(path)\n",
    "print(items[:2])\n",
    "files = [item for item in items if os.path.isfile(os.path.join(path,item))]\n",
    "files[:2]"
   ]
  },
  {
   "cell_type": "code",
   "execution_count": null,
   "metadata": {},
   "outputs": [],
   "source": [
    "fpath = 'C:\\\\Users\\\\jmull\\\\Documents\\\\addenv.bat'\n",
    "with open(fpath, mode='r') as fp:\n",
    "  for li in range(10):\n",
    "    line = fp.readline()\n",
    "    print(line)"
   ]
  },
  {
   "cell_type": "code",
   "execution_count": null,
   "metadata": {},
   "outputs": [],
   "source": [
    "fpath = os.path.join(path, files[0])\n",
    "with open(fpath, mode='r') as fp:\n",
    "  for li in range(10):\n",
    "    line = fp.readline()\n",
    "    print(line)"
   ]
  },
  {
   "cell_type": "code",
   "execution_count": null,
   "metadata": {},
   "outputs": [],
   "source": []
  }
 ],
 "metadata": {
  "kernelspec": {
   "display_name": "Python 3",
   "language": "python",
   "name": "python3"
  }
 },
 "nbformat": 4,
 "nbformat_minor": 4
}
