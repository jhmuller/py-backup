{
 "cells": [
  {
   "cell_type": "code",
   "execution_count": null,
   "id": "dramatic-latest",
   "metadata": {},
   "outputs": [],
   "source": [
    "import os\n",
    "import sys\n",
    "from gitback import Utilities, GitBack"
   ]
  },
  {
   "cell_type": "code",
   "execution_count": null,
   "id": "worth-singapore",
   "metadata": {},
   "outputs": [],
   "source": [
    "GB = GitBack()"
   ]
  },
  {
   "cell_type": "code",
   "execution_count": null,
   "id": "reserved-logistics",
   "metadata": {},
   "outputs": [],
   "source": [
    "bfolders = [os.path.join(\"C:\\\\\", \"Users\", os.getenv(\"USERNAME\"), \"Documents\"),\n",
    "           os.path.join(\"C:\\\\\", \"Users\", os.getenv(\"USERNAME\"), \"Downloads\"),\n",
    "           os.path.join(\"C:\\\\\", \"Users\", os.getenv(\"USERNAME\"), \"Videos\"),\n",
    "           os.path.join(\"C:\\\\\", \"Users\", os.getenv(\"USERNAME\"), \"Music\"),\n",
    "           ]\n",
    "dest_drive = \"G:\\\\\"\n",
    "\n",
    "dest_root = os.path.join(dest_drive, os.environ['COMPUTERNAME'])\n",
    "logfilename = \"backup_log\" + \"_\" + Utilities.nowstr() + \".txt\"\n",
    "logfilepath = logfilename\n",
    "res = GB.backup_folders(folders=bfolders,\n",
    "                            dest_drive=dest_drive,\n",
    "                            dest_root=dest_root,\n",
    "                            logfilepath=logfilepath,\n",
    "                            logfilename=logfilename,\n",
    "                            verbosity=1)"
   ]
  },
  {
   "cell_type": "code",
   "execution_count": null,
   "id": "raising-government",
   "metadata": {},
   "outputs": [],
   "source": []
  }
 ],
 "metadata": {
  "kernelspec": {
   "display_name": "backup",
   "language": "python",
   "name": "backup"
  }
 },
 "nbformat": 4,
 "nbformat_minor": 5
}
