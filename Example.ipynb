{
 "cells": [
  {
   "cell_type": "code",
   "execution_count": null,
   "metadata": {},
   "outputs": [],
   "source": [
    "import os\n",
    "import sys\n",
    "import datetime\n",
    "import warnings\n",
    "from gitback import Utilities, GitBack"
   ]
  },
  {
   "cell_type": "code",
   "execution_count": null,
   "metadata": {},
   "outputs": [],
   "source": [
    "computername = os.getenv(\"COMPUTERNAME\")\n",
    "if computername is None:\n",
    "    logger.error(\"no computer name\")\n",
    "    exit(-1)\n",
    "\n",
    "username = os.getenv(\"USERNAME\")\n",
    "if username is None:\n",
    "    logger.error(\"no user name\")\n",
    "    exit(-1)\n",
    "    \n",
    "bfolders = [\n",
    "    # os.path.join(\"C:\\\\\", \"dev\"),\n",
    "    # os.path.join(\"C:\\\\\", \"Users\", os.getenv(\"USERNAME\"), \"OneDrive\", \"dev\"),\n",
    "    # os.path.join(\"C:\\\\\", \"Users\", os.getenv(\"USERNAME\"), \"enter1\"),\n",
    "    # os.path.join(\"C:\\\\\", \"Users\", os.getenv(\"USERNAME\"), \"enter2\"),\n",
    "    # os.path.join(\"C:\\\\\", \"Users\", os.getenv(\"USERNAME\"), \"OneDrive\", \"Desktop\"),\n",
    "    #os.path.join(\"C:\\\\\", \"Users\", os.getenv(\"USERNAME\"), \"OneDrive\", \"Documents\"),\n",
    "    # os.path.join(\"C:\\\\\", \"Users\", os.getenv(\"USERNAME\"), \"OneDrive\", \"Pictures\"),\n",
    "    os.path.join(\"C:\\\\\", \"dev\"),\n",
    "    os.path.join(\"C:\\\\\", \"jmuller\"),\n",
    "    os.path.join(\"C:\\\\\", \"Users\", username, \"Documents\"),\n",
    "    os.path.join(\"C:\\\\\", \"Users\", username, \"Downloads\"),\n",
    "    os.path.join(\"C:\\\\\", \"Users\", username, \"dev\"),\n",
    "    os.path.join(\"C:\\\\\", \"Users\", username, \"enter2\"),\n",
    "    os.path.join(\"C:\\\\\", \"Users\", username, \"Pictures\"),      \n",
    "    os.path.join(\"C:\\\\\", \"Users\", username, \"Videos\"),    \n",
    "    os.path.join(\"C:\\\\\", \"Users\", username, \"Music\"),\n",
    "    ]\n",
    "dest_drive = \"G:\\\\\"\n",
    "dest_folder = os.path.join(dest_drive, computername)\n",
    "GB = GitBack(verbosity=1)\n",
    "res = GB.backup_folders(folders=bfolders,\n",
    "                    dest_drive=dest_drive,\n",
    "                    dest_folder=dest_folder,\n",
    "                    exclude_folders=[\"zztemp\"],\n",
    "                    exclude_exts=['.exe'],\n",
    "                    temp_folder=\"./zztemp\",\n",
    "                    verbosity=1)"
   ]
  },
  {
   "cell_type": "code",
   "execution_count": null,
   "metadata": {},
   "outputs": [],
   "source": [
    "\n"
   ]
  },
  {
   "cell_type": "code",
   "execution_count": null,
   "metadata": {},
   "outputs": [],
   "source": []
  },
  {
   "cell_type": "code",
   "execution_count": null,
   "metadata": {},
   "outputs": [],
   "source": []
  },
  {
   "cell_type": "code",
   "execution_count": null,
   "metadata": {},
   "outputs": [],
   "source": []
  }
 ],
 "metadata": {
  "kernelspec": {
   "display_name": "backup",
   "language": "python",
   "name": "backup"
  }
 },
 "nbformat": 4,
 "nbformat_minor": 4
}
